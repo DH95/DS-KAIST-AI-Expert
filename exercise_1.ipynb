{
 "cells": [
  {
   "cell_type": "markdown",
   "metadata": {
    "colab_type": "text",
    "id": "S09WCn0uXreW"
   },
   "source": [
    "# Exercise 1. Linear Regression \n",
    "\n",
    "*   High Level API를 사용하지 않고 forward, back propagation을 구현한다\n",
    "\n"
   ]
  },
  {
   "cell_type": "code",
   "execution_count": null,
   "metadata": {
    "colab": {},
    "colab_type": "code",
    "id": "MDHL3RvCKNBK"
   },
   "outputs": [],
   "source": [
    "import sys\n",
    "import numpy as np  # Matrix and vector computation package\n",
    "import matplotlib\n",
    "import matplotlib.pyplot as plt  # Plotting library\n",
    "import seaborn as sns  # Fancier plots\n",
    "\n",
    "# Set seaborn plotting style\n",
    "sns.set_style('darkgrid')\n",
    "# Set the seed for reproducability\n",
    "np.random.seed(seed=13)"
   ]
  },
  {
   "cell_type": "markdown",
   "metadata": {
    "colab_type": "text",
    "id": "STsJgjSAX7GS"
   },
   "source": [
    "### 1. Toy dataset 생성"
   ]
  },
  {
   "cell_type": "code",
   "execution_count": null,
   "metadata": {
    "colab": {},
    "colab_type": "code",
    "id": "W5ooMJXhYAXV"
   },
   "outputs": [],
   "source": [
    "# Define the vector of input samples as x, with 20 values \n",
    "# sampled from a uniform distribution between 0 and 1\n",
    "x = np.random.uniform(0, 1, 50)\n",
    "\n",
    "# Generate the target values t from x with small gaussian noise \n",
    "def f(x): \n",
    "    return 3 * x - 0.5\n",
    "\n",
    "# Create the targets t with some gaussian noise\n",
    "noise_variance = 0.2  # Variance of the gaussian noise\n",
    "# Gaussian noise error for each sample in x\n",
    "noise = np.random.randn(x.shape[0]) * noise_variance\n",
    "# Create targets t\n",
    "t = f(x) + noise"
   ]
  },
  {
   "cell_type": "code",
   "execution_count": null,
   "metadata": {
    "colab": {
     "base_uri": "https://localhost:8080/",
     "height": 244
    },
    "colab_type": "code",
    "executionInfo": {
     "elapsed": 990,
     "status": "ok",
     "timestamp": 1568699299146,
     "user": {
      "displayName": "Donghoon Ham",
      "photoUrl": "",
      "userId": "02374592131762549817"
     },
     "user_tz": -540
    },
    "id": "q6YUDNIcYTub",
    "outputId": "9a85d4f1-0bfa-4552-d5ab-76cf1aca3298"
   },
   "outputs": [],
   "source": [
    "# Plot the target t versus the input x\n",
    "plt.figure(figsize=(5, 3))\n",
    "plt.plot(x, t, 'o', label='$t$')\n",
    "# Plot the initial line\n",
    "plt.plot([0, 1], [f(0), f(1)], 'b--', label='$f(x)$')\n",
    "plt.xlabel('$x$', fontsize=12)\n",
    "plt.ylabel('$t$', fontsize=12)\n",
    "plt.axis((0, 1, 0, 2))\n",
    "plt.title('inputs (x) vs targets (t)')\n",
    "plt.legend(loc=2)\n",
    "plt.show()"
   ]
  },
  {
   "cell_type": "markdown",
   "metadata": {
    "colab_type": "text",
    "id": "V5dBITq0YQIv"
   },
   "source": [
    "### 2. Forward 함수 및 Loss Function 정의"
   ]
  },
  {
   "cell_type": "code",
   "execution_count": null,
   "metadata": {
    "colab": {},
    "colab_type": "code",
    "id": "IW2GoEdOZ4Ff"
   },
   "outputs": [],
   "source": [
    "def forward(x, w, b):\n",
    "  \"Output function y = x * w + b\"\n",
    "  return x * w + b\n",
    "  \n",
    "def loss(y, t):\n",
    "  \"MSE loss function\"\n",
    "  return np.mean((t-y)**2)"
   ]
  },
  {
   "cell_type": "code",
   "execution_count": null,
   "metadata": {
    "colab": {
     "base_uri": "https://localhost:8080/",
     "height": 246
    },
    "colab_type": "code",
    "executionInfo": {
     "elapsed": 908,
     "status": "ok",
     "timestamp": 1568699324946,
     "user": {
      "displayName": "Donghoon Ham",
      "photoUrl": "",
      "userId": "02374592131762549817"
     },
     "user_tz": -540
    },
    "id": "cyXeZHgbaiAW",
    "outputId": "9ae9679b-9cac-4026-81f5-b35f87c5217e"
   },
   "outputs": [],
   "source": [
    "# Plot the loss vs the given weight w\n",
    "\n",
    "# Vector of weights for which we want to plot the loss\n",
    "ws = np.linspace(0, 4, num=100)  # weight values\n",
    "# loss for each weight in ws\n",
    "loss_ws = np.vectorize(lambda w: loss(forward(x, w, -0.5) , t))(ws)\n",
    "\n",
    "# Plot\n",
    "plt.figure(figsize=(5, 3))\n",
    "plt.plot(ws, loss_ws, 'r--', label='loss')\n",
    "plt.xlabel('$w$', fontsize=12)\n",
    "plt.ylabel('$\\\\xi$', fontsize=12)\n",
    "plt.title('loss function with respect to $w$')\n",
    "plt.xlim(0, 4)\n",
    "plt.legend()\n",
    "plt.show()\n",
    "#"
   ]
  },
  {
   "cell_type": "markdown",
   "metadata": {
    "colab_type": "text",
    "id": "ehRNPDhTdtrb"
   },
   "source": [
    "### 3. Gradient 및 Backward 함수 정의"
   ]
  },
  {
   "cell_type": "code",
   "execution_count": null,
   "metadata": {
    "colab": {},
    "colab_type": "code",
    "id": "vvt_-Axcd7yB"
   },
   "outputs": [],
   "source": [
    "def gradient(w, b, x, t):\n",
    "    \"\"\"Gradient function. x : input, w: weight, b: bias, t: true label\"\"\"\n",
    "    y = forward(x,w,b)\n",
    "    grad_w = 0\n",
    "    grad_b = 0\n",
    "    \n",
    "    ###################\n",
    "    # TODO: grad_w와 grad_b를 계산하는 코드를 여기에 작성하세요.\n",
    "    # ...\n",
    "\n",
    "    ###################\n",
    "    \n",
    "    return grad_w, grad_b"
   ]
  },
  {
   "cell_type": "markdown",
   "metadata": {
    "colab_type": "text",
    "id": "DOZJJcH0v43l"
   },
   "source": [
    "### 4. Training"
   ]
  },
  {
   "cell_type": "code",
   "execution_count": null,
   "metadata": {
    "colab": {
     "base_uri": "https://localhost:8080/",
     "height": 1000
    },
    "colab_type": "code",
    "executionInfo": {
     "elapsed": 789,
     "status": "ok",
     "timestamp": 1568699350110,
     "user": {
      "displayName": "Donghoon Ham",
      "photoUrl": "",
      "userId": "02374592131762549817"
     },
     "user_tz": -540
    },
    "id": "c-qHscREv2zJ",
    "outputId": "941f0058-b894-48bf-995c-4b7f6c017872"
   },
   "outputs": [],
   "source": [
    "# Initial weight parameter\n",
    "w = np.random.rand()\n",
    "b = np.random.rand()\n",
    "# Set the learning rate\n",
    "learning_rate = 0.7\n",
    "\n",
    "# Perform the gradient descent updates, and print the weights and loss:\n",
    "nb_of_iterations = 100  # number of gradient descent updates\n",
    "_loss = [(w, b, loss(forward(x, w, b), t))] # Keep track of weight and loss values\n",
    "for i in range(nb_of_iterations):\n",
    "  \n",
    "    ###################\n",
    "    # TODO: gradient() 함수를 사용하여 w와 b를 업데이트하는 코드를 여기에 작성하세요.\n",
    "    # ...\n",
    "\n",
    "    ###################\n",
    "    \n",
    "    _loss.append((w, b, loss(forward(x, w, b), t)))  # Save weight and loss\n",
    "\n",
    "# Print the final w, and loss\n",
    "for i in range(0, len(_loss)):\n",
    "    print(f'w({i}): {_loss[i][0]:.4f} \\t b({i}): {_loss[i][1]:.4f} \\t loss: {_loss[i][1]:.4f}')"
   ]
  },
  {
   "cell_type": "markdown",
   "metadata": {
    "colab_type": "text",
    "id": "UcxJOVthLCnu"
   },
   "source": [
    "### 실험 결과 plotting"
   ]
  },
  {
   "cell_type": "code",
   "execution_count": null,
   "metadata": {
    "colab": {
     "base_uri": "https://localhost:8080/",
     "height": 298
    },
    "colab_type": "code",
    "executionInfo": {
     "elapsed": 878,
     "status": "ok",
     "timestamp": 1568699357005,
     "user": {
      "displayName": "Donghoon Ham",
      "photoUrl": "",
      "userId": "02374592131762549817"
     },
     "user_tz": -540
    },
    "id": "q4h0O-TSvAhV",
    "outputId": "3b0a0e64-b750-4278-9536-37650f6410ad"
   },
   "outputs": [],
   "source": [
    "# Plot the fitted line agains the target line\n",
    "plt.figure(figsize=(6, 4))\n",
    "# Plot the target t versus the input x\n",
    "plt.plot(x, t, 'o', label='$t$')\n",
    "# Plot the initial line\n",
    "plt.plot([0, 1], [f(0), f(1)], 'b--', label='$f(x)$')\n",
    "# plot the fitted line\n",
    "plt.plot([0, 1], [0*w + b, 1*w + b], 'r-', label='$y = w * x + b$')\n",
    "plt.xlabel('$x$', fontsize=12)\n",
    "plt.ylabel('$t$', fontsize=12)\n",
    "plt.title('input vs target')\n",
    "plt.legend(loc=2)\n",
    "plt.ylim(0, 2)\n",
    "plt.xlim(0, 1)\n",
    "plt.show()\n",
    "#"
   ]
  }
 ],
 "metadata": {
  "colab": {
   "collapsed_sections": [],
   "name": "exercise_1.ipynb",
   "provenance": [],
   "version": "0.3.2"
  },
  "kernelspec": {
   "display_name": "Python 3",
   "language": "python",
   "name": "python3"
  },
  "language_info": {
   "codemirror_mode": {
    "name": "ipython",
    "version": 3
   },
   "file_extension": ".py",
   "mimetype": "text/x-python",
   "name": "python",
   "nbconvert_exporter": "python",
   "pygments_lexer": "ipython3",
   "version": "3.7.3"
  }
 },
 "nbformat": 4,
 "nbformat_minor": 1
}
