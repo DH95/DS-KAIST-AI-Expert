{
 "cells": [
  {
   "cell_type": "markdown",
   "metadata": {
    "colab_type": "text",
    "id": "Q5gGjmID9p70"
   },
   "source": [
    "# Exercise 3. Autoencoder"
   ]
  },
  {
   "cell_type": "code",
   "execution_count": null,
   "metadata": {
    "colab": {
     "base_uri": "https://localhost:8080/",
     "height": 559
    },
    "colab_type": "code",
    "executionInfo": {
     "elapsed": 7101,
     "status": "ok",
     "timestamp": 1568736217112,
     "user": {
      "displayName": "Donghoon Ham",
      "photoUrl": "",
      "userId": "02374592131762549817"
     },
     "user_tz": -540
    },
    "id": "zwcV5yrB9RsB",
    "outputId": "42e43f1a-4d30-45f3-bb25-4a08ed2eb352"
   },
   "outputs": [],
   "source": [
    "import tensorflow as tf\n",
    "import numpy as np\n",
    "import matplotlib.pyplot as plt\n",
    "\n",
    "from tensorflow.examples.tutorials.mnist import input_data\n",
    "mnist = input_data.read_data_sets(\"./mnist/data\", one_hot=True)"
   ]
  },
  {
   "cell_type": "markdown",
   "metadata": {
    "colab_type": "text",
    "id": "TKphkk3490Lz"
   },
   "source": [
    "### 1. Neural Network 모델 구성"
   ]
  },
  {
   "cell_type": "code",
   "execution_count": null,
   "metadata": {
    "colab": {},
    "colab_type": "code",
    "id": "0JG1x7qi95C1"
   },
   "outputs": [],
   "source": [
    "# Hyperparameters\n",
    "learning_rate = 0.01\n",
    "training_epoch = 20\n",
    "batch_size = 100\n",
    "n_hidden = 256\n",
    "n_input = 28*28\n",
    "\n",
    "X = tf.placeholder(tf.float32, [None, n_input])\n",
    "###################\n",
    "# TODO: 신경망에 필요한 Variable들을 정의하세요(W_encode, b_encode, W_decode, b_decode).\n",
    "# tf.Variable, tf.random_normal 이용 \n",
    "###################"
   ]
  },
  {
   "cell_type": "markdown",
   "metadata": {
    "colab_type": "text",
    "id": "eOsdBcz1-D0B"
   },
   "source": [
    "### 1-1. Encoder\n"
   ]
  },
  {
   "cell_type": "code",
   "execution_count": null,
   "metadata": {
    "colab": {},
    "colab_type": "code",
    "id": "CP1jERs8-G1q"
   },
   "outputs": [],
   "source": [
    "def encoder(X):\n",
    "  ###################\n",
    "  # TODO: Input X가 들어왔을 때 hidden state를 return하는 encoder layer를 구성하세요\n",
    "  # tf.add, tf.matmul, tf.nn.sigmoid 함수 이용 \n",
    "  #\n",
    "  ###################\n",
    "  return 0"
   ]
  },
  {
   "cell_type": "markdown",
   "metadata": {
    "colab_type": "text",
    "id": "-68-CKp0BZnk"
   },
   "source": [
    "### 1-2. Decoder"
   ]
  },
  {
   "cell_type": "code",
   "execution_count": null,
   "metadata": {
    "colab": {},
    "colab_type": "code",
    "id": "NYPIEouDBbRk"
   },
   "outputs": [],
   "source": [
    "def decoder(h):\n",
    "  ###################\n",
    "  # TODO: \"hidden state h가 들어왔을 때 원래 data dimension으로 decoding하는 layer를 구성하세요\n",
    "  # tf.add, tf.matmul, tf.nn.sigmoid 함수 이용 \n",
    "  #\n",
    "  ###################\n",
    "  return 0"
   ]
  },
  {
   "cell_type": "markdown",
   "metadata": {
    "colab_type": "text",
    "id": "bJKUSRmyB3d3"
   },
   "source": [
    "### 1-3. Loss function, Optimizer 정의"
   ]
  },
  {
   "cell_type": "code",
   "execution_count": null,
   "metadata": {
    "colab": {
     "base_uri": "https://localhost:8080/",
     "height": 125
    },
    "colab_type": "code",
    "executionInfo": {
     "elapsed": 1251,
     "status": "ok",
     "timestamp": 1568737418544,
     "user": {
      "displayName": "Donghoon Ham",
      "photoUrl": "",
      "userId": "02374592131762549817"
     },
     "user_tz": -540
    },
    "id": "IAnS4W9oCAy8",
    "outputId": "fca9af44-86cb-4ac7-92e2-1b3c45dfec2b"
   },
   "outputs": [],
   "source": [
    "# 각 dimension value 차이의 제곱 평균\n",
    "cost = tf.reduce_mean(tf.pow(X - decoder(encoder(X)), 2))\n",
    "optimizer = tf.train.RMSPropOptimizer(learning_rate).minimize(cost)"
   ]
  },
  {
   "cell_type": "markdown",
   "metadata": {
    "colab_type": "text",
    "id": "-HSFRgZXCYus"
   },
   "source": [
    "### 2. Training"
   ]
  },
  {
   "cell_type": "code",
   "execution_count": null,
   "metadata": {
    "colab": {
     "base_uri": "https://localhost:8080/",
     "height": 395
    },
    "colab_type": "code",
    "executionInfo": {
     "elapsed": 79965,
     "status": "ok",
     "timestamp": 1568737522709,
     "user": {
      "displayName": "Donghoon Ham",
      "photoUrl": "",
      "userId": "02374592131762549817"
     },
     "user_tz": -540
    },
    "id": "vAgpTjI7CYFG",
    "outputId": "b9044106-8962-41e9-cfde-6b7846169c22"
   },
   "outputs": [],
   "source": [
    "init = tf.global_variables_initializer()\n",
    "sess = tf.Session()\n",
    "sess.run(init)\n",
    "\n",
    "total_batch = int(mnist.train.num_examples / batch_size)\n",
    "\n",
    "for epoch in range(training_epoch):\n",
    "\n",
    "    total_cost = 0\n",
    "\n",
    "    for i in range(total_batch):\n",
    "        batch_xs, batch_ys = mnist.train.next_batch(batch_size)\n",
    "\n",
    "        _, cost_val = sess.run([optimizer, cost], feed_dict={X: batch_xs})\n",
    "\n",
    "        total_cost += cost_val\n",
    "\n",
    "    print('Epoch: ', '%04d' % (epoch+1),\n",
    "          'Avg. Cost = ', '{:.4f}'.format(total_cost/total_batch))\n",
    "\n",
    "print('최적화 완료!')"
   ]
  },
  {
   "cell_type": "markdown",
   "metadata": {
    "colab_type": "text",
    "id": "HzsHVOVgCi1u"
   },
   "source": [
    "### 3. 결과 확인"
   ]
  },
  {
   "cell_type": "code",
   "execution_count": null,
   "metadata": {
    "colab": {
     "base_uri": "https://localhost:8080/",
     "height": 158
    },
    "colab_type": "code",
    "executionInfo": {
     "elapsed": 2201,
     "status": "ok",
     "timestamp": 1568737577099,
     "user": {
      "displayName": "Donghoon Ham",
      "photoUrl": "",
      "userId": "02374592131762549817"
     },
     "user_tz": -540
    },
    "id": "Km27fG4aClvN",
    "outputId": "a04d8755-73bc-498a-a702-c8438665009c"
   },
   "outputs": [],
   "source": [
    "sample_size = 10\n",
    "\n",
    "samples = sess.run(decoder(encoder(X)), feed_dict={X: mnist.test.images[:sample_size]})\n",
    "\n",
    "fig, ax = plt.subplots(2, sample_size, figsize=(sample_size, 2))\n",
    "\n",
    "for i in range(sample_size):\n",
    "\n",
    "    ax[0][i].set_axis_off()\n",
    "    ax[1][i].set_axis_off()\n",
    " \n",
    "    ax[0][i].imshow(np.reshape(mnist.test.images[i], (28, 28)))\n",
    "    ax[1][i].imshow(np.reshape(samples[i], (28, 28)))\n",
    "\n",
    "plt.show()"
   ]
  }
 ],
 "metadata": {
  "colab": {
   "collapsed_sections": [],
   "name": "exercise_3.ipynb",
   "provenance": [],
   "version": "0.3.2"
  },
  "kernelspec": {
   "display_name": "Python 3",
   "language": "python",
   "name": "python3"
  },
  "language_info": {
   "codemirror_mode": {
    "name": "ipython",
    "version": 3
   },
   "file_extension": ".py",
   "mimetype": "text/x-python",
   "name": "python",
   "nbconvert_exporter": "python",
   "pygments_lexer": "ipython3",
   "version": "3.7.3"
  }
 },
 "nbformat": 4,
 "nbformat_minor": 1
}
