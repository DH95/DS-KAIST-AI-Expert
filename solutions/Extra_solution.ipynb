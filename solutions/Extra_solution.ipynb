{
  "nbformat": 4,
  "nbformat_minor": 0,
  "metadata": {
    "colab": {
      "name": "Extra_solution.ipynb",
      "provenance": []
    },
    "kernelspec": {
      "name": "python3",
      "display_name": "Python 3"
    }
  },
  "cells": [
    {
      "cell_type": "code",
      "metadata": {
        "id": "G9jHO98vEAs3",
        "colab_type": "code",
        "colab": {
          "base_uri": "https://localhost:8080/",
          "height": 241
        },
        "outputId": "0858d3ea-8442-4461-a03a-5dd4ecb9a268"
      },
      "source": [
        "import numpy as np\n",
        "import tensorflow as tf\n",
        "from sklearn.datasets import load_iris\n",
        "from sklearn.model_selection import train_test_split\n",
        "from sklearn.preprocessing import OneHotEncoder\n",
        "from sklearn.metrics import roc_auc_score, accuracy_score\n",
        "from keras.models import Sequential\n",
        "from keras.layers import Dense\n",
        "from keras.optimizers import Adam\n",
        "\n",
        "iris_data = load_iris() # load the iris dataset\n",
        "\n",
        "print('Example data: ')\n",
        "print(iris_data.data[:5])\n",
        "print('Example labels: ')\n",
        "print(iris_data.target[:5])\n",
        "\n",
        "x = iris_data.data\n",
        "y_ = iris_data.target.reshape(-1, 1) # Convert data to a single column\n",
        "\n",
        "# One Hot encode the class labels\n",
        "encoder = OneHotEncoder(sparse=False)\n",
        "y = encoder.fit_transform(y_)\n",
        "#print(y)\n",
        "\n",
        "# Split the data for training and testing\n",
        "train_x, test_x, train_y, test_y = train_test_split(x, y, test_size=0.20)"
      ],
      "execution_count": 21,
      "outputs": [
        {
          "output_type": "stream",
          "text": [
            "Example data: \n",
            "[[5.1 3.5 1.4 0.2]\n",
            " [4.9 3.  1.4 0.2]\n",
            " [4.7 3.2 1.3 0.2]\n",
            " [4.6 3.1 1.5 0.2]\n",
            " [5.  3.6 1.4 0.2]]\n",
            "Example labels: \n",
            "[0 0 0 0 0]\n"
          ],
          "name": "stdout"
        },
        {
          "output_type": "stream",
          "text": [
            "/usr/local/lib/python3.6/dist-packages/sklearn/preprocessing/_encoders.py:415: FutureWarning: The handling of integer data will change in version 0.22. Currently, the categories are determined based on the range [0, max(values)], while in the future they will be determined based on the unique values.\n",
            "If you want the future behaviour and silence this warning, you can specify \"categories='auto'\".\n",
            "In case you used a LabelEncoder before this OneHotEncoder to convert the categories to integers, then you can now use the OneHotEncoder directly.\n",
            "  warnings.warn(msg, FutureWarning)\n"
          ],
          "name": "stderr"
        }
      ]
    },
    {
      "cell_type": "code",
      "metadata": {
        "id": "bldQ4MCZEQte",
        "colab_type": "code",
        "colab": {
          "base_uri": "https://localhost:8080/",
          "height": 34
        },
        "outputId": "da9c9f13-0080-4e60-e352-a5e9fc18b257"
      },
      "source": [
        "num_classes = train_y.shape[1]\n",
        "num_features = train_x.shape[1]\n",
        "num_output = train_y.shape[1]\n",
        "num_layers_0 = 10\n",
        "num_layers_1 = 10\n",
        "starter_learning_rate = 0.01\n",
        "print(num_classes, num_features, num_output, train_x.shape)"
      ],
      "execution_count": 23,
      "outputs": [
        {
          "output_type": "stream",
          "text": [
            "3 4 3 (120, 4)\n"
          ],
          "name": "stdout"
        }
      ]
    },
    {
      "cell_type": "code",
      "metadata": {
        "id": "wWR1tLKdGVn9",
        "colab_type": "code",
        "colab": {}
      },
      "source": [
        "input_X = tf.placeholder('float32',shape =(None,num_features),name=\"input_X\")\n",
        "input_y = tf.placeholder('float32',shape = (None,num_classes),name='input_Y')"
      ],
      "execution_count": 0,
      "outputs": []
    },
    {
      "cell_type": "code",
      "metadata": {
        "id": "p5l1L6tKGbwg",
        "colab_type": "code",
        "colab": {}
      },
      "source": [
        "weights_0 = tf.Variable(tf.random_normal([num_features,num_layers_0], stddev=(1/tf.sqrt(float(num_features)))))\n",
        "bias_0 = tf.Variable(tf.random_normal([num_layers_0]))\n",
        "weights_1 = tf.Variable(tf.random_normal([num_layers_0,num_layers_1], stddev=(1/tf.sqrt(float(num_layers_0)))))\n",
        "bias_1 = tf.Variable(tf.random_normal([num_layers_1]))\n",
        "weights_2 = tf.Variable(tf.random_normal([num_layers_1,num_output], stddev=(1/tf.sqrt(float(num_layers_1)))))\n",
        "bias_2 = tf.Variable(tf.random_normal([num_output]))"
      ],
      "execution_count": 0,
      "outputs": []
    },
    {
      "cell_type": "code",
      "metadata": {
        "id": "a3lKVROVGnww",
        "colab_type": "code",
        "colab": {}
      },
      "source": [
        "def forward_pass(input_x, input_y):\n",
        "\n",
        "  hidden_output_0 = tf.nn.relu(tf.matmul(input_x,weights_0)+bias_0)\n",
        "  hidden_output_1 = tf.nn.relu(tf.matmul(hidden_output_0,weights_1)+bias_1)\n",
        "  predicted_y = tf.matmul(hidden_output_1,weights_2) + bias_2\n",
        "  loss = tf.reduce_mean(tf.nn.softmax_cross_entropy_with_logits_v2(logits=predicted_y,labels=input_y))\n",
        "  \n",
        "  return predicted_y, loss\n",
        "\n",
        "predicted_y, loss = forward_pass(input_X, input_y)"
      ],
      "execution_count": 0,
      "outputs": []
    },
    {
      "cell_type": "code",
      "metadata": {
        "id": "OiBWDu6WGs3-",
        "colab_type": "code",
        "colab": {}
      },
      "source": [
        "## Variable learning rate\n",
        "learning_rate = tf.train.exponential_decay(starter_learning_rate, 0, 5, 0.85, staircase=True)\n",
        "## Adam optimzer for finding the right weight\n",
        "# optimizer = tf.train.GradientDescentOptimizer(learning_rate).minimize(loss,var_list=[weights_0,weights_1,weights_2, bias_0,bias_1,bias_2])\n",
        "optimizer = tf.train.AdamOptimizer(learning_rate).minimize(loss,var_list=[weights_0,weights_1,weights_2,\n",
        "                                                                         bias_0,bias_1,bias_2])"
      ],
      "execution_count": 0,
      "outputs": []
    },
    {
      "cell_type": "code",
      "metadata": {
        "id": "6jDDHjqcGvrH",
        "colab_type": "code",
        "colab": {}
      },
      "source": [
        "## Metrics definition\n",
        "correct_prediction = tf.equal(tf.argmax(train_y,1), tf.argmax(predicted_y,1))\n",
        "accuracy = tf.reduce_mean(tf.cast(correct_prediction, tf.float32))"
      ],
      "execution_count": 0,
      "outputs": []
    },
    {
      "cell_type": "code",
      "metadata": {
        "id": "inQ1PQrRG3oZ",
        "colab_type": "code",
        "colab": {
          "base_uri": "https://localhost:8080/",
          "height": 1000
        },
        "outputId": "b386d6f3-c8b5-4506-ddad-7ff4d677c2b3"
      },
      "source": [
        "## Training parameters\n",
        "s = tf.InteractiveSession()\n",
        "\n",
        "batch_size = 5\n",
        "epochs=100\n",
        "training_accuracy = []\n",
        "training_loss = []\n",
        "testing_accuracy = []\n",
        "s.run(tf.global_variables_initializer())\n",
        "for epoch in range(epochs):    \n",
        "    arr = np.arange(train_x.shape[0])\n",
        "    np.random.shuffle(arr)\n",
        "    for index in range(0,train_x.shape[0],batch_size):\n",
        "        s.run(optimizer, {input_X: train_x[arr[index:index+batch_size]],\n",
        "                          input_y: train_y[arr[index:index+batch_size]],\n",
        "                         })\n",
        "    training_accuracy.append(s.run(accuracy, feed_dict= {input_X:train_x, \n",
        "                                                         input_y:train_y}))\n",
        "    training_loss.append(s.run(loss, {input_X: train_x, \n",
        "                                      input_y: train_y}))\n",
        "    \n",
        "    ## Evaluation of model\n",
        "    testing_accuracy.append(accuracy_score(test_y.argmax(1), \n",
        "                            s.run(predicted_y, {input_X: test_x}).argmax(1)))\n",
        "    print(\"Epoch:{0}, Train loss: {1:.2f} Train acc: {2:.3f}, Test acc:{3:.3f}\".format(epoch,\n",
        "                                                                    training_loss[epoch],\n",
        "                                                                    training_accuracy[epoch],\n",
        "                                                                   testing_accuracy[epoch]))"
      ],
      "execution_count": 31,
      "outputs": [
        {
          "output_type": "stream",
          "text": [
            "/usr/local/lib/python3.6/dist-packages/tensorflow/python/client/session.py:1735: UserWarning: An interactive session is already active. This can cause out-of-memory errors in some cases. You must explicitly call `InteractiveSession.close()` to release resources held by the other session(s).\n",
            "  warnings.warn('An interactive session is already active. This can '\n"
          ],
          "name": "stderr"
        },
        {
          "output_type": "stream",
          "text": [
            "Epoch:0, Train loss: 1.00 Train acc: 0.333, Test acc:0.367\n",
            "Epoch:1, Train loss: 0.73 Train acc: 0.683, Test acc:0.633\n",
            "Epoch:2, Train loss: 0.50 Train acc: 0.825, Test acc:0.733\n",
            "Epoch:3, Train loss: 0.42 Train acc: 0.683, Test acc:0.733\n",
            "Epoch:4, Train loss: 0.32 Train acc: 0.850, Test acc:0.833\n",
            "Epoch:5, Train loss: 0.23 Train acc: 0.975, Test acc:0.933\n",
            "Epoch:6, Train loss: 0.19 Train acc: 0.958, Test acc:0.933\n",
            "Epoch:7, Train loss: 0.15 Train acc: 0.975, Test acc:1.000\n",
            "Epoch:8, Train loss: 0.12 Train acc: 0.975, Test acc:1.000\n",
            "Epoch:9, Train loss: 0.16 Train acc: 0.933, Test acc:0.933\n",
            "Epoch:10, Train loss: 0.20 Train acc: 0.908, Test acc:0.900\n",
            "Epoch:11, Train loss: 0.39 Train acc: 0.808, Test acc:0.767\n",
            "Epoch:12, Train loss: 0.09 Train acc: 0.975, Test acc:0.967\n",
            "Epoch:13, Train loss: 0.16 Train acc: 0.933, Test acc:0.900\n",
            "Epoch:14, Train loss: 0.08 Train acc: 0.975, Test acc:0.967\n",
            "Epoch:15, Train loss: 0.11 Train acc: 0.950, Test acc:0.900\n",
            "Epoch:16, Train loss: 0.22 Train acc: 0.892, Test acc:0.900\n",
            "Epoch:17, Train loss: 0.07 Train acc: 0.983, Test acc:0.967\n",
            "Epoch:18, Train loss: 0.13 Train acc: 0.967, Test acc:0.900\n",
            "Epoch:19, Train loss: 0.12 Train acc: 0.967, Test acc:0.933\n",
            "Epoch:20, Train loss: 0.07 Train acc: 0.975, Test acc:1.000\n",
            "Epoch:21, Train loss: 0.06 Train acc: 0.983, Test acc:0.967\n",
            "Epoch:22, Train loss: 0.06 Train acc: 0.983, Test acc:0.967\n",
            "Epoch:23, Train loss: 0.06 Train acc: 0.983, Test acc:1.000\n",
            "Epoch:24, Train loss: 0.06 Train acc: 0.983, Test acc:1.000\n",
            "Epoch:25, Train loss: 0.06 Train acc: 0.983, Test acc:0.967\n",
            "Epoch:26, Train loss: 0.07 Train acc: 0.975, Test acc:0.967\n",
            "Epoch:27, Train loss: 0.06 Train acc: 0.983, Test acc:0.967\n",
            "Epoch:28, Train loss: 0.06 Train acc: 0.975, Test acc:0.933\n",
            "Epoch:29, Train loss: 0.06 Train acc: 0.983, Test acc:1.000\n",
            "Epoch:30, Train loss: 0.05 Train acc: 0.983, Test acc:0.967\n",
            "Epoch:31, Train loss: 0.05 Train acc: 0.983, Test acc:0.967\n",
            "Epoch:32, Train loss: 0.08 Train acc: 0.967, Test acc:0.967\n",
            "Epoch:33, Train loss: 0.05 Train acc: 0.983, Test acc:0.967\n",
            "Epoch:34, Train loss: 0.16 Train acc: 0.958, Test acc:0.867\n",
            "Epoch:35, Train loss: 0.08 Train acc: 0.958, Test acc:0.933\n",
            "Epoch:36, Train loss: 0.05 Train acc: 0.983, Test acc:0.967\n",
            "Epoch:37, Train loss: 0.14 Train acc: 0.942, Test acc:0.900\n",
            "Epoch:38, Train loss: 0.20 Train acc: 0.883, Test acc:0.867\n",
            "Epoch:39, Train loss: 0.07 Train acc: 0.958, Test acc:0.933\n",
            "Epoch:40, Train loss: 0.07 Train acc: 0.983, Test acc:0.967\n",
            "Epoch:41, Train loss: 0.08 Train acc: 0.967, Test acc:0.967\n",
            "Epoch:42, Train loss: 0.05 Train acc: 0.983, Test acc:0.967\n",
            "Epoch:43, Train loss: 0.07 Train acc: 0.958, Test acc:0.933\n",
            "Epoch:44, Train loss: 0.05 Train acc: 0.983, Test acc:0.967\n",
            "Epoch:45, Train loss: 0.09 Train acc: 0.967, Test acc:0.900\n",
            "Epoch:46, Train loss: 0.06 Train acc: 0.983, Test acc:0.967\n",
            "Epoch:47, Train loss: 0.08 Train acc: 0.967, Test acc:0.933\n",
            "Epoch:48, Train loss: 0.06 Train acc: 0.983, Test acc:0.967\n",
            "Epoch:49, Train loss: 0.12 Train acc: 0.950, Test acc:0.900\n",
            "Epoch:50, Train loss: 0.05 Train acc: 0.983, Test acc:1.000\n",
            "Epoch:51, Train loss: 0.13 Train acc: 0.950, Test acc:0.900\n",
            "Epoch:52, Train loss: 0.09 Train acc: 0.967, Test acc:0.900\n",
            "Epoch:53, Train loss: 0.13 Train acc: 0.967, Test acc:0.900\n",
            "Epoch:54, Train loss: 0.07 Train acc: 0.983, Test acc:0.967\n",
            "Epoch:55, Train loss: 0.05 Train acc: 0.983, Test acc:1.000\n",
            "Epoch:56, Train loss: 0.06 Train acc: 0.967, Test acc:0.933\n",
            "Epoch:57, Train loss: 0.10 Train acc: 0.958, Test acc:0.900\n",
            "Epoch:58, Train loss: 0.06 Train acc: 0.967, Test acc:0.933\n",
            "Epoch:59, Train loss: 0.05 Train acc: 0.983, Test acc:0.967\n",
            "Epoch:60, Train loss: 0.21 Train acc: 0.917, Test acc:0.867\n",
            "Epoch:61, Train loss: 0.05 Train acc: 0.967, Test acc:0.933\n",
            "Epoch:62, Train loss: 0.05 Train acc: 0.975, Test acc:0.933\n",
            "Epoch:63, Train loss: 0.05 Train acc: 0.967, Test acc:0.933\n",
            "Epoch:64, Train loss: 0.06 Train acc: 0.983, Test acc:0.967\n",
            "Epoch:65, Train loss: 0.08 Train acc: 0.967, Test acc:0.900\n",
            "Epoch:66, Train loss: 0.09 Train acc: 0.967, Test acc:0.933\n",
            "Epoch:67, Train loss: 0.11 Train acc: 0.950, Test acc:0.900\n",
            "Epoch:68, Train loss: 0.07 Train acc: 0.983, Test acc:0.967\n",
            "Epoch:69, Train loss: 0.04 Train acc: 0.983, Test acc:0.967\n",
            "Epoch:70, Train loss: 0.05 Train acc: 0.967, Test acc:0.933\n",
            "Epoch:71, Train loss: 0.04 Train acc: 0.992, Test acc:0.967\n",
            "Epoch:72, Train loss: 0.06 Train acc: 0.983, Test acc:0.967\n",
            "Epoch:73, Train loss: 0.10 Train acc: 0.950, Test acc:0.900\n",
            "Epoch:74, Train loss: 0.07 Train acc: 0.975, Test acc:0.967\n",
            "Epoch:75, Train loss: 0.08 Train acc: 0.967, Test acc:0.900\n",
            "Epoch:76, Train loss: 0.06 Train acc: 0.967, Test acc:0.933\n",
            "Epoch:77, Train loss: 0.12 Train acc: 0.950, Test acc:0.900\n",
            "Epoch:78, Train loss: 0.06 Train acc: 0.967, Test acc:0.933\n",
            "Epoch:79, Train loss: 0.06 Train acc: 0.967, Test acc:0.933\n",
            "Epoch:80, Train loss: 0.05 Train acc: 0.975, Test acc:0.933\n",
            "Epoch:81, Train loss: 0.10 Train acc: 0.967, Test acc:0.933\n",
            "Epoch:82, Train loss: 0.11 Train acc: 0.967, Test acc:0.900\n",
            "Epoch:83, Train loss: 0.04 Train acc: 0.983, Test acc:0.967\n",
            "Epoch:84, Train loss: 0.04 Train acc: 0.992, Test acc:0.967\n",
            "Epoch:85, Train loss: 0.05 Train acc: 0.983, Test acc:0.967\n",
            "Epoch:86, Train loss: 0.05 Train acc: 0.983, Test acc:0.967\n",
            "Epoch:87, Train loss: 0.04 Train acc: 0.983, Test acc:0.967\n",
            "Epoch:88, Train loss: 0.12 Train acc: 0.967, Test acc:0.900\n",
            "Epoch:89, Train loss: 0.07 Train acc: 0.975, Test acc:0.933\n",
            "Epoch:90, Train loss: 0.05 Train acc: 0.967, Test acc:0.933\n",
            "Epoch:91, Train loss: 0.04 Train acc: 0.992, Test acc:0.967\n",
            "Epoch:92, Train loss: 0.06 Train acc: 0.958, Test acc:0.933\n",
            "Epoch:93, Train loss: 0.05 Train acc: 0.983, Test acc:0.967\n",
            "Epoch:94, Train loss: 0.06 Train acc: 0.983, Test acc:0.967\n",
            "Epoch:95, Train loss: 0.23 Train acc: 0.925, Test acc:0.867\n",
            "Epoch:96, Train loss: 0.06 Train acc: 0.967, Test acc:0.933\n",
            "Epoch:97, Train loss: 0.04 Train acc: 0.983, Test acc:0.967\n",
            "Epoch:98, Train loss: 0.07 Train acc: 0.975, Test acc:0.933\n",
            "Epoch:99, Train loss: 0.04 Train acc: 0.983, Test acc:0.967\n"
          ],
          "name": "stdout"
        }
      ]
    }
  ]
}